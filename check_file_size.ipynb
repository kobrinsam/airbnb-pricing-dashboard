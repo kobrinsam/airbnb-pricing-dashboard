{
 "cells": [
  {
   "cell_type": "code",
   "execution_count": 3,
   "metadata": {},
   "outputs": [
    {
     "name": "stdout",
     "output_type": "stream",
     "text": [
      "No files exceed the 100MB size limit.\n"
     ]
    }
   ],
   "source": [
    "# we used this file to check the size of the files in the directory are less than 100MB, the max github allows without LFS, prior to pushing to the github repo\n",
    "import os\n",
    "\n",
    "def get_file_sizes(start_path='.'):\n",
    "    for dirpath, dirnames, filenames in os.walk(start_path):\n",
    "        for f in filenames:\n",
    "            fp = os.path.join(dirpath, f)\n",
    "            size = os.path.getsize(fp)\n",
    "            yield fp, size\n",
    "\n",
    "def main():\n",
    "    max_size = 100 * 1024 * 1024  # 100 MB\n",
    "    large_files = []\n",
    "    \n",
    "    for file_path, size in get_file_sizes():\n",
    "        if size > max_size:\n",
    "            large_files.append((file_path, size))\n",
    "    \n",
    "    if large_files:\n",
    "        print(\"Files exceeding the 100MB size limit:\")\n",
    "        for file_path, size in large_files:\n",
    "            print(f\"{file_path}: {size / (1024 * 1024):.2f} MB\")\n",
    "    else:\n",
    "        print(\"No files exceed the 100MB size limit.\")\n",
    "\n",
    "if __name__ == \"__main__\":\n",
    "    main()\n"
   ]
  }
 ],
 "metadata": {
  "kernelspec": {
   "display_name": "base",
   "language": "python",
   "name": "python3"
  },
  "language_info": {
   "codemirror_mode": {
    "name": "ipython",
    "version": 3
   },
   "file_extension": ".py",
   "mimetype": "text/x-python",
   "name": "python",
   "nbconvert_exporter": "python",
   "pygments_lexer": "ipython3",
   "version": "3.9.12"
  }
 },
 "nbformat": 4,
 "nbformat_minor": 2
}
