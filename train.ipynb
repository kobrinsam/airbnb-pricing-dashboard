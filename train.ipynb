{
 "cells": [
  {
   "cell_type": "markdown",
   "metadata": {},
   "source": [
    "# Model Training Script\n",
    "Install the snowflake-connector-python if needed"
   ]
  },
  {
   "cell_type": "code",
   "execution_count": 168,
   "metadata": {},
   "outputs": [
    {
     "name": "stdout",
     "output_type": "stream",
     "text": [
      "Requirement already satisfied: shiny in /Users/samkobrin/opt/anaconda3/lib/python3.9/site-packages (0.8.1)\n",
      "Requirement already satisfied: pandas in /Users/samkobrin/opt/anaconda3/lib/python3.9/site-packages (1.5.3)\n",
      "Requirement already satisfied: scikit-learn in /Users/samkobrin/opt/anaconda3/lib/python3.9/site-packages (1.0.2)\n",
      "Requirement already satisfied: joblib in /Users/samkobrin/opt/anaconda3/lib/python3.9/site-packages (1.1.0)\n",
      "Requirement already satisfied: uvicorn>=0.16.0 in /Users/samkobrin/opt/anaconda3/lib/python3.9/site-packages (from shiny) (0.20.0)\n",
      "Requirement already satisfied: linkify-it-py>=1.0 in /Users/samkobrin/opt/anaconda3/lib/python3.9/site-packages (from shiny) (2.0.3)\n",
      "Requirement already satisfied: appdirs>=1.4.4 in /Users/samkobrin/opt/anaconda3/lib/python3.9/site-packages (from shiny) (1.4.4)\n",
      "Requirement already satisfied: asgiref>=3.5.2 in /Users/samkobrin/opt/anaconda3/lib/python3.9/site-packages (from shiny) (3.8.1)\n",
      "Requirement already satisfied: websockets>=10.0 in /Users/samkobrin/opt/anaconda3/lib/python3.9/site-packages (from shiny) (11.0.1)\n",
      "Requirement already satisfied: watchfiles>=0.18.0 in /Users/samkobrin/opt/anaconda3/lib/python3.9/site-packages (from shiny) (0.19.0)\n",
      "Requirement already satisfied: questionary>=2.0.0 in /Users/samkobrin/opt/anaconda3/lib/python3.9/site-packages (from shiny) (2.0.1)\n",
      "Requirement already satisfied: python-multipart in /Users/samkobrin/opt/anaconda3/lib/python3.9/site-packages (from shiny) (0.0.9)\n",
      "Requirement already satisfied: mdit-py-plugins>=0.3.0 in /Users/samkobrin/opt/anaconda3/lib/python3.9/site-packages (from shiny) (0.4.0)\n",
      "Requirement already satisfied: htmltools>=0.5.1 in /Users/samkobrin/opt/anaconda3/lib/python3.9/site-packages (from shiny) (0.5.1)\n",
      "Requirement already satisfied: markdown-it-py>=1.1.0 in /Users/samkobrin/opt/anaconda3/lib/python3.9/site-packages (from shiny) (2.2.0)\n",
      "Requirement already satisfied: click>=8.1.4 in /Users/samkobrin/opt/anaconda3/lib/python3.9/site-packages (from shiny) (8.1.7)\n",
      "Requirement already satisfied: starlette in /Users/samkobrin/opt/anaconda3/lib/python3.9/site-packages (from shiny) (0.25.0)\n",
      "Requirement already satisfied: typing-extensions>=4.0.1 in /Users/samkobrin/opt/anaconda3/lib/python3.9/site-packages (from shiny) (4.5.0)\n",
      "Requirement already satisfied: numpy>=1.20.3 in /Users/samkobrin/opt/anaconda3/lib/python3.9/site-packages (from pandas) (1.23.5)\n",
      "Requirement already satisfied: python-dateutil>=2.8.1 in /Users/samkobrin/opt/anaconda3/lib/python3.9/site-packages (from pandas) (2.8.2)\n",
      "Requirement already satisfied: pytz>=2020.1 in /Users/samkobrin/opt/anaconda3/lib/python3.9/site-packages (from pandas) (2021.3)\n",
      "Requirement already satisfied: threadpoolctl>=2.0.0 in /Users/samkobrin/opt/anaconda3/lib/python3.9/site-packages (from scikit-learn) (2.2.0)\n",
      "Requirement already satisfied: scipy>=1.1.0 in /Users/samkobrin/opt/anaconda3/lib/python3.9/site-packages (from scikit-learn) (1.10.1)\n",
      "Requirement already satisfied: packaging>=20.9 in /Users/samkobrin/opt/anaconda3/lib/python3.9/site-packages (from htmltools>=0.5.1->shiny) (21.3)\n",
      "Requirement already satisfied: uc-micro-py in /Users/samkobrin/opt/anaconda3/lib/python3.9/site-packages (from linkify-it-py>=1.0->shiny) (1.0.3)\n",
      "Requirement already satisfied: mdurl~=0.1 in /Users/samkobrin/opt/anaconda3/lib/python3.9/site-packages (from markdown-it-py>=1.1.0->shiny) (0.1.2)\n",
      "Requirement already satisfied: six>=1.5 in /Users/samkobrin/opt/anaconda3/lib/python3.9/site-packages (from python-dateutil>=2.8.1->pandas) (1.16.0)\n",
      "Requirement already satisfied: prompt_toolkit<=3.0.36,>=2.0 in /Users/samkobrin/opt/anaconda3/lib/python3.9/site-packages (from questionary>=2.0.0->shiny) (3.0.30)\n",
      "Requirement already satisfied: h11>=0.8 in /Users/samkobrin/opt/anaconda3/lib/python3.9/site-packages (from uvicorn>=0.16.0->shiny) (0.14.0)\n",
      "Requirement already satisfied: anyio>=3.0.0 in /Users/samkobrin/opt/anaconda3/lib/python3.9/site-packages (from watchfiles>=0.18.0->shiny) (3.5.0)\n",
      "Requirement already satisfied: idna>=2.8 in /Users/samkobrin/opt/anaconda3/lib/python3.9/site-packages (from anyio>=3.0.0->watchfiles>=0.18.0->shiny) (2.8)\n",
      "Requirement already satisfied: sniffio>=1.1 in /Users/samkobrin/opt/anaconda3/lib/python3.9/site-packages (from anyio>=3.0.0->watchfiles>=0.18.0->shiny) (1.2.0)\n",
      "Requirement already satisfied: pyparsing!=3.0.5,>=2.0.2 in /Users/samkobrin/opt/anaconda3/lib/python3.9/site-packages (from packaging>=20.9->htmltools>=0.5.1->shiny) (3.0.4)\n",
      "Requirement already satisfied: wcwidth in /Users/samkobrin/opt/anaconda3/lib/python3.9/site-packages (from prompt_toolkit<=3.0.36,>=2.0->questionary>=2.0.0->shiny) (0.2.5)\n"
     ]
    }
   ],
   "source": [
    "#!pip install snowflake-connector-python"
   ]
  },
  {
   "cell_type": "code",
   "execution_count": 85,
   "metadata": {},
   "outputs": [],
   "source": [
    "import pandas as pd\n",
    "import numpy as np\n",
    "import snowflake.connector\n",
    "import os\n",
    "from datetime import datetime\n",
    "from dotenv import load_dotenv\n",
    "import argparse\n",
    "import joblib\n",
    "import argparse\n",
    "import joblib\n",
    "import numpy as np\n",
    "from sklearn.datasets import make_regression\n",
    "from sklearn.linear_model import Ridge\n",
    "from sklearn.model_selection import train_test_split\n",
    "from sklearn.preprocessing import OneHotEncoder\n",
    "from sklearn.compose import ColumnTransformer\n",
    "from sklearn.pipeline import Pipeline\n",
    "from sklearn.metrics import mean_squared_error\n",
    "\n",
    "\n",
    "# enable pandas to display up to 500 columns\n",
    "pd.set_option('display.max_columns', 500)"
   ]
  },
  {
   "cell_type": "markdown",
   "metadata": {},
   "source": [
    "#### 1.1 Load Snowflake credentials for temp user"
   ]
  },
  {
   "cell_type": "code",
   "execution_count": 86,
   "metadata": {},
   "outputs": [],
   "source": [
    "# Load environment variables from a .env file\n",
    "load_dotenv()\n",
    "\n",
    "try:\n",
    "    TEMP_USER = os.getenv('SNOWSQL_TEMP_USER')\n",
    "    TEMP_USER_PASSWORD = os.getenv('SNOWSQL_TEMP_PWD')\n",
    "    \n",
    "    if not TEMP_USER:\n",
    "        raise ValueError(\"Environment variable SNOWSQL_TEMP_USER must be set\")\n",
    "    if not TEMP_USER_PASSWORD:\n",
    "        raise ValueError(\"Environment variable SNOWSQL_TEMP_PWD must be set\")\n",
    "\n",
    "except ValueError as ve:\n",
    "    print(f\"Error: {ve}\")\n",
    "    \n",
    "except Exception as e:\n",
    "    print(f\"An unexpected error occurred: {e}\")"
   ]
  },
  {
   "cell_type": "markdown",
   "metadata": {},
   "source": [
    "#### 1.2 Connect to Snowflake"
   ]
  },
  {
   "cell_type": "code",
   "execution_count": 87,
   "metadata": {},
   "outputs": [
    {
     "name": "stdout",
     "output_type": "stream",
     "text": [
      "Connected to Snowflake successfully at 2024-07-24 15:4614\n"
     ]
    }
   ],
   "source": [
    "# Establish connection to Snowflake\n",
    "current_time = datetime.now().strftime('%Y-%m-%d %H:%M%S')\n",
    "\n",
    "try:\n",
    "    conn = snowflake.connector.connect(\n",
    "        user=TEMP_USER,\n",
    "        password=TEMP_USER_PASSWORD,\n",
    "        account='ygeuort-alb19263',\n",
    "        warehouse='COMPUTE_WH',\n",
    "        database='AIRBNB',\n",
    "        schema='ODS'\n",
    "    )\n",
    "\n",
    "    print(f'Connected to Snowflake successfully at {current_time}')\n",
    "\n",
    "except Exception as e:\n",
    "    print(f'Failed to connect to Snowflake on {current_time} due to error code {e}')"
   ]
  },
  {
   "cell_type": "code",
   "execution_count": 88,
   "metadata": {},
   "outputs": [],
   "source": [
    "def get_data(sql_query, date_columns=None):\n",
    "    \"\"\"\n",
    "    Executes a SQL query and returns the result as a pandas DataFrame.\n",
    "\n",
    "    Args:\n",
    "        sql_query (str): SQL query to execute.\n",
    "\n",
    "    Returns:\n",
    "        df_result: Resulting DataFrame from the SQL query.\n",
    "    \"\"\"\n",
    "    try:\n",
    "        cursor = conn.cursor()\n",
    "        \n",
    "        cursor.execute(sql_query)\n",
    "\n",
    "        # load data into dataframe\n",
    "        df_result = cursor.fetch_pandas_all()\n",
    "\n",
    "        # Convert column names to lowercase\n",
    "        df_result.columns = map(str.lower, df_result.columns)\n",
    "\n",
    "        # Parse specified date columns\n",
    "        if date_columns:\n",
    "            for col in date_columns:\n",
    "                df_result[col] = pd.to_datetime(df_result[col], errors='coerce')\n",
    "\n",
    "    finally:\n",
    "        if cursor is not None:\n",
    "            cursor.close()\n",
    "\n",
    "    return df_result"
   ]
  },
  {
   "cell_type": "markdown",
   "metadata": {},
   "source": [
    "#### 2.2 Sample query\n",
    "Select listings data for albany market."
   ]
  },
  {
   "cell_type": "code",
   "execution_count": 161,
   "metadata": {},
   "outputs": [
    {
     "data": {
      "text/plain": [
       "(111052, 68)"
      ]
     },
     "execution_count": 161,
     "metadata": {},
     "output_type": "execute_result"
    }
   ],
   "source": [
    "sql_query = '''\n",
    "select * from listings\n",
    " '''\n",
    "\n",
    "df = get_data(sql_query)\n",
    "df.shape"
   ]
  },
  {
   "cell_type": "code",
   "execution_count": 162,
   "metadata": {},
   "outputs": [],
   "source": [
    "from sklearn.preprocessing import OneHotEncoder\n",
    "from sklearn.compose import ColumnTransformer\n"
   ]
  },
  {
   "cell_type": "code",
   "execution_count": 163,
   "metadata": {},
   "outputs": [],
   "source": [
    "features = ['market', 'host_identity_verified', 'room_type', 'accommodates', 'bathrooms', 'beds']\n",
    "categorical_features = ['market', 'room_type', 'host_identity_verified']\n",
    "numerical_features = ['accommodates', 'bathrooms', 'beds']\n",
    "target = 'price'\n",
    "\n",
    "#filter to only the features and target columns\n",
    "df = df[features + [target]]\n",
    "# drop prices over 600 a night\n",
    "df = df[df[target] <= 600]\n",
    "# drop rows with missing target value\n",
    "df = df.dropna(subset=[target])\n",
    "X = df.drop(columns=[target])\n",
    "y = df[target]\n",
    "\n",
    "# Split data into training and test sets\n",
    "X_train, X_test, y_train, y_test = train_test_split(X, y, test_size=0.2, random_state=42)\n"
   ]
  },
  {
   "cell_type": "code",
   "execution_count": 167,
   "metadata": {},
   "outputs": [
    {
     "name": "stdout",
     "output_type": "stream",
     "text": [
      "Cross-validation MAE scores: [58.25337328 58.7410126  58.91110018 59.1612984  58.09765366]\n",
      "Average cross-validation MAE: 58.63288762487275\n",
      "Test set MAE: 58.67335381967918\n"
     ]
    },
    {
     "data": {
      "image/png": "[encoded data removed]",
      "text/plain": [
       "<Figure size 432x288 with 1 Axes>"
      ]
     },
     "metadata": {
      "needs_background": "light"
     },
     "output_type": "display_data"
    }
   ],
   "source": [
    "from sklearn.pipeline import Pipeline\n",
    "from sklearn.compose import ColumnTransformer\n",
    "from sklearn.preprocessing import StandardScaler, OneHotEncoder\n",
    "from sklearn.impute import SimpleImputer\n",
    "from sklearn.linear_model import LogisticRegression\n",
    "from sklearn.ensemble import RandomForestRegressor\n",
    "from sklearn.metrics import mean_absolute_error\n",
    "import numpy as np\n",
    "\n",
    "def create_pipeline():\n",
    "    # Define the preprocessing for numerical features\n",
    "    #numerical_features = ['num_feature1', 'num_feature2']  # replace with your actual numerical feature names\n",
    "    numerical_transformer = Pipeline(steps=[\n",
    "        ('imputer', SimpleImputer(strategy='median')),\n",
    "        ('scaler', StandardScaler())\n",
    "    ])\n",
    "    \n",
    "    # Define the preprocessing for categorical features\n",
    "    #categorical_features = ['cat_feature1', 'cat_feature2']  # replace with your actual categorical feature names\n",
    "    categorical_transformer = Pipeline(steps=[\n",
    "        ('imputer', SimpleImputer(strategy='constant', fill_value='missing')),\n",
    "        ('onehot', OneHotEncoder(handle_unknown='ignore'))\n",
    "    ])\n",
    "    \n",
    "    # Combine preprocessing for numerical and categorical features\n",
    "    preprocessor = ColumnTransformer(\n",
    "        transformers=[\n",
    "            ('num', numerical_transformer, numerical_features),\n",
    "            ('cat', categorical_transformer, categorical_features)\n",
    "        ])\n",
    "    \n",
    "    # Create the pipeline\n",
    "    pipeline = Pipeline(steps=[\n",
    "        ('preprocessor', preprocessor),\n",
    "        ('regressor', KNeighborsRegressor(n_neighbors=50))\n",
    "    ])\n",
    "    \n",
    "    return pipeline\n",
    "\n",
    "# Create the pipeline\n",
    "pipeline = create_pipeline()\n",
    "\n",
    "# Perform cross-validation with MAE\n",
    "maeScores = cross_val_score(pipeline, X_train, y_train, cv=5, scoring='neg_mean_absolute_error')\n",
    "maeScores = -maeScores  # Convert negative MAE to positive\n",
    "print(\"Cross-validation MAE scores:\", maeScores)\n",
    "print(\"Average cross-validation MAE:\", maeScores.mean())\n",
    "\n",
    "# Train the model on the entire training set\n",
    "pipeline.fit(X_train, y_train)\n",
    "\n",
    "# Predict and evaluate the model on the test set using MAE\n",
    "y_pred = pipeline.predict(X_test)\n",
    "mae_test = mean_absolute_error(y_test, y_pred)\n",
    "print(\"Test set MAE:\", mae_test)\n",
    "\n",
    "# Save the model weights\n",
    "joblib.dump(pipeline, 'regression_pipeline.joblib')\n",
    "\n",
    "# Plot the results\n",
    "plt.scatter(y_test, y_pred)\n",
    "plt.xlabel('Actual Price')\n",
    "plt.ylabel('Predicted Price')\n",
    "plt.title('Actual vs Predicted Prices')\n",
    "plt.show()\n",
    "\n"
   ]
  },
  {
   "cell_type": "code",
   "execution_count": 138,
   "metadata": {},
   "outputs": [
    {
     "data": {
      "text/html": [
       "<div>\n",
       "<style scoped>\n",
       "    .dataframe tbody tr th:only-of-type {\n",
       "        vertical-align: middle;\n",
       "    }\n",
       "\n",
       "    .dataframe tbody tr th {\n",
       "        vertical-align: top;\n",
       "    }\n",
       "\n",
       "    .dataframe thead th {\n",
       "        text-align: right;\n",
       "    }\n",
       "</style>\n",
       "<table border=\"1\" class=\"dataframe\">\n",
       "  <thead>\n",
       "    <tr style=\"text-align: right;\">\n",
       "      <th></th>\n",
       "      <th>Target</th>\n",
       "      <th>Predicted</th>\n",
       "      <th>Difference</th>\n",
       "    </tr>\n",
       "  </thead>\n",
       "  <tbody>\n",
       "    <tr>\n",
       "      <th>33536</th>\n",
       "      <td>280.0</td>\n",
       "      <td>362.9375</td>\n",
       "      <td>-82.9375</td>\n",
       "    </tr>\n",
       "    <tr>\n",
       "      <th>10980</th>\n",
       "      <td>45.0</td>\n",
       "      <td>114.3750</td>\n",
       "      <td>-69.3750</td>\n",
       "    </tr>\n",
       "    <tr>\n",
       "      <th>4361</th>\n",
       "      <td>218.0</td>\n",
       "      <td>52.3125</td>\n",
       "      <td>165.6875</td>\n",
       "    </tr>\n",
       "    <tr>\n",
       "      <th>34835</th>\n",
       "      <td>69.0</td>\n",
       "      <td>159.8125</td>\n",
       "      <td>-90.8125</td>\n",
       "    </tr>\n",
       "    <tr>\n",
       "      <th>22170</th>\n",
       "      <td>200.0</td>\n",
       "      <td>125.0000</td>\n",
       "      <td>75.0000</td>\n",
       "    </tr>\n",
       "    <tr>\n",
       "      <th>...</th>\n",
       "      <td>...</td>\n",
       "      <td>...</td>\n",
       "      <td>...</td>\n",
       "    </tr>\n",
       "    <tr>\n",
       "      <th>25223</th>\n",
       "      <td>140.0</td>\n",
       "      <td>233.7500</td>\n",
       "      <td>-93.7500</td>\n",
       "    </tr>\n",
       "    <tr>\n",
       "      <th>29035</th>\n",
       "      <td>685.0</td>\n",
       "      <td>694.4375</td>\n",
       "      <td>-9.4375</td>\n",
       "    </tr>\n",
       "    <tr>\n",
       "      <th>22446</th>\n",
       "      <td>140.0</td>\n",
       "      <td>244.4375</td>\n",
       "      <td>-104.4375</td>\n",
       "    </tr>\n",
       "    <tr>\n",
       "      <th>34262</th>\n",
       "      <td>79.0</td>\n",
       "      <td>119.6875</td>\n",
       "      <td>-40.6875</td>\n",
       "    </tr>\n",
       "    <tr>\n",
       "      <th>11765</th>\n",
       "      <td>500.0</td>\n",
       "      <td>398.3125</td>\n",
       "      <td>101.6875</td>\n",
       "    </tr>\n",
       "  </tbody>\n",
       "</table>\n",
       "<p>4652 rows × 3 columns</p>\n",
       "</div>"
      ],
      "text/plain": [
       "       Target  Predicted  Difference\n",
       "33536   280.0   362.9375    -82.9375\n",
       "10980    45.0   114.3750    -69.3750\n",
       "4361    218.0    52.3125    165.6875\n",
       "34835    69.0   159.8125    -90.8125\n",
       "22170   200.0   125.0000     75.0000\n",
       "...       ...        ...         ...\n",
       "25223   140.0   233.7500    -93.7500\n",
       "29035   685.0   694.4375     -9.4375\n",
       "22446   140.0   244.4375   -104.4375\n",
       "34262    79.0   119.6875    -40.6875\n",
       "11765   500.0   398.3125    101.6875\n",
       "\n",
       "[4652 rows x 3 columns]"
      ]
     },
     "execution_count": 138,
     "metadata": {},
     "output_type": "execute_result"
    }
   ],
   "source": [
    "# Create a dataframe of target, predicted values, and difference\n",
    "df_result = pd.DataFrame({'Target': y_test, 'Predicted': y_pred, 'Difference': y_test - y_pred})\n",
    "# 58.63\n",
    "# Display the dataframe\n",
    "df_result\n"
   ]
  },
  {
   "cell_type": "markdown",
   "metadata": {},
   "source": [
    "#### 3.3 Connect to FEATURE_STORE schema"
   ]
  },
  {
   "cell_type": "code",
   "execution_count": null,
   "metadata": {},
   "outputs": [
    {
     "name": "stdout",
     "output_type": "stream",
     "text": [
      "Connected to Snowflake successfully at 2024-07-24 14:4726\n"
     ]
    }
   ],
   "source": [
    "# Establish connection to Snowflake\n",
    "current_time = datetime.now().strftime('%Y-%m-%d %H:%M%S')\n",
    "\n",
    "try:\n",
    "    conn = snowflake.connector.connect(\n",
    "        user=TEMP_USER,\n",
    "        password=TEMP_USER_PASSWORD,\n",
    "        account='ygeuort-alb19263',\n",
    "        warehouse='COMPUTE_WH',\n",
    "        database='AIRBNB',\n",
    "        schema='FEATURE_STORE' # connect to feature_store\n",
    "    )\n",
    "\n",
    "    print(f'Connected to Snowflake successfully at {current_time}')\n",
    "\n",
    "except Exception as e:\n",
    "    print(f'Failed to connect to Snowflake on {current_time} due to error code {e}')"
   ]
  },
  {
   "cell_type": "markdown",
   "metadata": {},
   "source": [
    "#### 3.4 Create table and upload to Snowflake"
   ]
  },
  {
   "cell_type": "code",
   "execution_count": null,
   "metadata": {},
   "outputs": [],
   "source": [
    "from snowflake.connector.pandas_tools import write_pandas"
   ]
  },
  {
   "cell_type": "code",
   "execution_count": null,
   "metadata": {},
   "outputs": [],
   "source": [
    "def write_to_snowflake(df_name, snowflake_table_name):\n",
    "    current_time = datetime.now().strftime('%Y-%m-%d %H:%M%S')\n",
    "    try:\n",
    "        success, num_chunks, num_rows, output = write_pandas(\n",
    "            conn=conn,\n",
    "            df=df_name,\n",
    "            schema='FEATURE_STORE', # schema needs to be capitalized\n",
    "            table_name=snowflake_table_name,\n",
    "            auto_create_table=True,\n",
    "            overwrite=True\n",
    "        )\n",
    "\n",
    "        print(f'Created table and data loaded to Snowflake at {current_time}')\n",
    "\n",
    "    except Exception as e:\n",
    "        print(f'Failed to create table and load data to Snowflake due to error code {e}')"
   ]
  },
  {
   "cell_type": "code",
   "execution_count": null,
   "metadata": {},
   "outputs": [
    {
     "name": "stdout",
     "output_type": "stream",
     "text": [
      "Created table and data loaded to Snowflake at 2024-07-24 14:4726\n"
     ]
    }
   ],
   "source": [
    "write_to_snowflake(df, 'ALBANY_MARKET_LISTINGS')"
   ]
  }
 ],
 "metadata": {
  "kernelspec": {
   "display_name": "de-zoomcamp",
   "language": "python",
   "name": "python3"
  },
  "language_info": {
   "codemirror_mode": {
    "name": "ipython",
    "version": 3
   },
   "file_extension": ".py",
   "mimetype": "text/x-python",
   "name": "python",
   "nbconvert_exporter": "python",
   "pygments_lexer": "ipython3",
   "version": "3.9.12"
  }
 },
 "nbformat": 4,
 "nbformat_minor": 2
}
